{
 "cells": [
  {
   "cell_type": "code",
   "execution_count": 1,
   "id": "c225ed1e-6d50-4804-b3dd-0c262fb456d1",
   "metadata": {},
   "outputs": [],
   "source": [
    "import os\n",
    "from dotenv import load_dotenv\n",
    "import re\n",
    "\n",
    "from groq import Groq"
   ]
  },
  {
   "cell_type": "markdown",
   "id": "d77852ae-0bef-4cad-9b9c-25d3f510bb9f",
   "metadata": {},
   "source": [
    "## Get the API key"
   ]
  },
  {
   "cell_type": "code",
   "execution_count": 2,
   "id": "a8d72a39-34ae-42d3-8ebe-2e8ffa6967bc",
   "metadata": {},
   "outputs": [
    {
     "name": "stdout",
     "output_type": "stream",
     "text": [
      "56\n"
     ]
    }
   ],
   "source": [
    "load_dotenv()\n",
    "GROQ_API_KEY = os.getenv(\"GROQ_API_KEY\")\n",
    "print(len(GROQ_API_KEY))"
   ]
  },
  {
   "cell_type": "markdown",
   "id": "74600751-a762-4e7e-8b98-19d63f4d640a",
   "metadata": {},
   "source": [
    "## Client"
   ]
  },
  {
   "cell_type": "code",
   "execution_count": 3,
   "id": "85383a8a-e590-476c-8207-7fc9024fd309",
   "metadata": {},
   "outputs": [],
   "source": [
    "client = Groq(\n",
    "    api_key=GROQ_API_KEY,\n",
    ")"
   ]
  },
  {
   "cell_type": "markdown",
   "id": "ec9ca0dc-f996-4c29-b423-adb0ff1a6fb6",
   "metadata": {},
   "source": [
    "## Prompts"
   ]
  },
  {
   "cell_type": "code",
   "execution_count": 4,
   "id": "477459f8-0978-467e-a11c-744855caf943",
   "metadata": {},
   "outputs": [],
   "source": [
    "# CLASS_PROMPT : classifier prompt\n",
    "# NEWS_PROMPT : current events prompt\n",
    "# COMPANY_PROMPT : company prompt\n",
    "# THINK_PROMPT : thinking companion prompt"
   ]
  },
  {
   "cell_type": "code",
   "execution_count": 5,
   "id": "dba45b60-7612-4fae-930c-a75378531e6c",
   "metadata": {},
   "outputs": [],
   "source": [
    "CLASS_PROMPT = \"\"\"\n",
    "Look at the user query.\n",
    "Is it a question about a current event / political topic? If so, return 1.\n",
    "Is it a question about a company or an investment opportunity? If so, return 2.\n",
    "Is it a general question requiring a thinking companion? If so, return 3.\n",
    "If it's impossible to fit any of the preceding descriptions, return 4.\n",
    "Don't return anything else. Just one number. Nothing else. No explanations. You should return one single symbol. Double-check that.\n",
    "\"\"\""
   ]
  },
  {
   "cell_type": "code",
   "execution_count": 6,
   "id": "72db8a96-5997-4f4a-8ef1-bd1c20418eb1",
   "metadata": {},
   "outputs": [],
   "source": [
    "NEWS_PROMPT = \"\"\"\n",
    "You are a talented political commentator who's able to comment on a political event from multiple angles. \n",
    "You will be given a current political event/topic. \n",
    "Return a JSON object with the following data (look at the name of the parameter and its explanation): \n",
    "    \"topic\", // The name of the topic/event\n",
    "    \"timeline\", // Date, like January 2020 -- March 2022\n",
    "    \"summary\",  // This is a compressed UNBIASED summary of the commentaries from different political views\n",
    "    \"left_wing_commentary\", // What is the left-wing view of the event?\n",
    "    \"right_wing_commentary\", // What is the right-wing view of the event?\n",
    "    \"list_of_last_news\". // Every piece of news is structured as follows: \"news_story\", \"date\", \"source\", \"bias_level\". \"bias_level\" is a float between 0.0 (unbiased) and 1.0 (extremely biased and one-sided).\n",
    "Make sure that you respect the provided schema of the JSON object.\n",
    "Don't return anything else. Just the JSON.\n",
    "    \"\"\""
   ]
  },
  {
   "cell_type": "code",
   "execution_count": 12,
   "id": "25a2809f-5a66-44ed-bfc2-c7ea28f7cc4d",
   "metadata": {},
   "outputs": [],
   "source": [
    "COMPANY_PROMPT = \"\"\"\n",
    "You are a talented investor.\n",
    "Provide fundamental analysis for a company.\n",
    "Give the main information about its sector. Is it one of the top companies in its given field?\n",
    "State its strong and weak points as an investment opportunity.\n",
    "Estimate its ability to generate revenue.\n",
    "Present some historical data about the stock price and the company's performance.\n",
    "\"\"\""
   ]
  },
  {
   "cell_type": "markdown",
   "id": "8030b117-0220-4bca-bb1e-814c16fdd345",
   "metadata": {},
   "source": [
    "## Classifier"
   ]
  },
  {
   "cell_type": "code",
   "execution_count": 7,
   "id": "48a42fa4-6c94-41f1-9189-e8a89dd6f6e1",
   "metadata": {},
   "outputs": [],
   "source": [
    "def get_mode(user_input):\n",
    "    chat_completion = client.chat.completions.create(\n",
    "        messages=[\n",
    "            {\n",
    "                \"role\": \"system\",\n",
    "                \"content\": CLASS_PROMPT,\n",
    "            },\n",
    "            {\n",
    "                \"role\": \"user\",\n",
    "                \"content\": user_input,\n",
    "            }\n",
    "        ],\n",
    "        model=\"mixtral-8x7b-32768\",\n",
    "    )\n",
    "\n",
    "    model_output = chat_completion.choices[0].message.content\n",
    "\n",
    "    # Make sure that the classifier outputs a single number\n",
    "    regex = re.compile(r'(\\d+).*', flags=re.DOTALL)\n",
    "    result = regex.search(model_output).group(1)\n",
    "    result = int(result) if result is not None else 4\n",
    "\n",
    "    return result"
   ]
  },
  {
   "cell_type": "code",
   "execution_count": 8,
   "id": "e435ee64-bae0-4575-9cee-d0c515e83e8e",
   "metadata": {},
   "outputs": [
    {
     "name": "stdout",
     "output_type": "stream",
     "text": [
      "1\n",
      "2\n",
      "3\n",
      "4\n"
     ]
    }
   ],
   "source": [
    "print(get_mode(\"Ukraine War\"))\n",
    "print(get_mode(\"Tesla, Inc.\"))\n",
    "print(get_mode(\"Let's discuss Daniel Kahneman's book, Thinking Fast and Slow.\"))\n",
    "print(get_mode(\"whatever whatever whatever whatever\"))"
   ]
  },
  {
   "cell_type": "markdown",
   "id": "c3383759-70d9-45da-b4c4-69eca7d151fc",
   "metadata": {},
   "source": [
    "## Quering"
   ]
  },
  {
   "cell_type": "code",
   "execution_count": 9,
   "id": "1c0fd34d-7d18-4957-b873-17c933467e72",
   "metadata": {},
   "outputs": [],
   "source": [
    "def news_query(user_input):\n",
    "    chat_completion = client.chat.completions.create(\n",
    "        messages=[\n",
    "            {\n",
    "                \"role\": \"system\",\n",
    "                \"content\": NEWS_PROMPT,\n",
    "            },\n",
    "            {\n",
    "                \"role\": \"user\",\n",
    "                \"content\": user_input,\n",
    "            }\n",
    "        ],\n",
    "        model=\"mixtral-8x7b-32768\",\n",
    "    )\n",
    "\n",
    "    return chat_completion.choices[0].message.content"
   ]
  },
  {
   "cell_type": "code",
   "execution_count": 10,
   "id": "26c34a7d-2808-4e80-9c61-c1366a650f5b",
   "metadata": {},
   "outputs": [
    {
     "name": "stdout",
     "output_type": "stream",
     "text": [
      "{\n",
      "  \"topic\": \"Ukraine war\",\n",
      "  \"timeline\": \"February 2022 - present\",\n",
      "  \"summary\": \"Russia's invasion of Ukraine has led to widespread condemnation from the international community and a humanitarian crisis. The conflict has resulted in thousands of deaths and displacement of millions of people.\",\n",
      "  \"left_wing_commentary\": \"The left-wing view of the Ukraine war heavily criticizes Russia's actions as an unjustified invasion of a sovereign nation. They argue that Russian President Vladimir Putin's imperialist ambitions and aggressive foreign policy are to blame for the conflict. Additionally, they emphasize the need for diplomatic efforts and humanitarian aid for the victims of the war.\",\n",
      "  \"right_wing_commentary\": \"The right-wing view of the Ukraine war is more varied, with some expressing support for Russia's actions and others condemning them. Those who support Russia argue that Western interference in Ukraine's affairs provoked the conflict and that Russia has legitimate security concerns. Others argue that the conflict is a result of Ukraine's failure to address the rights of its Russian-speaking population. Regardless, the right-wing view generally emphasizes the need for a strong military response to protect national interests and a skepticism towards international institutions and organizations.\",\n",
      "  \"list_of_last_news\": [\n",
      "    {\n",
      "      \"news_story\": \"Ukraine reports record daily death toll in fighting with Russia-backed separatists\",\n",
      "      \"date\": \"March 24, 2022\",\n",
      "      \"source\": \"Reuters\",\n",
      "      \"bias_level\": 0.3\n",
      "    },\n",
      "    {\n",
      "      \"news_story\": \"Russia's actions in Ukraine are unprovoked and must be met with a unified response from the international community\",\n",
      "      \"date\": \"March 22, 2022\",\n",
      "      \"source\": \"Joe Biden, President of the United States\",\n",
      "      \"bias_level\": 0.1\n",
      "    },\n",
      "    {\n",
      "      \"news_story\": \"The crisis in Ukraine is a result of Western interference and a failure to address the rights of Russian-speaking population\",\n",
      "      \"date\": \"March 21, 2022\",\n",
      "      \"source\": \"Tucker Carlson, Fox News\",\n",
      "      \"bias_level\": 0.8\n",
      "    },\n",
      "    {\n",
      "      \"news_story\": \"Russia's invasion of Ukraine is a reminder of the dangers of imperialism and unchecked aggression\",\n",
      "      \"date\": \"March 20, 2022\",\n",
      "      \"source\": \"Alexandria Ocasio-Cortez, US Representative\",\n",
      "      \"bias_level\": 0.2\n",
      "    }\n",
      "  ]\n",
      "}\n"
     ]
    }
   ],
   "source": [
    "print(news_query(\"Ukraine war\"))"
   ]
  },
  {
   "cell_type": "code",
   "execution_count": null,
   "id": "8b0d69c3-823e-4a75-9359-bae4a2ee3ff8",
   "metadata": {},
   "outputs": [],
   "source": [
    "# add URL + critique by LLM"
   ]
  },
  {
   "cell_type": "code",
   "execution_count": 13,
   "id": "388920e3-e7a7-4f0a-9d57-57b72d9469a2",
   "metadata": {},
   "outputs": [],
   "source": [
    "def company_query(user_input):\n",
    "    chat_completion = client.chat.completions.create(\n",
    "        messages=[\n",
    "            {\n",
    "                \"role\": \"system\",\n",
    "                \"content\": COMPANY_PROMPT,\n",
    "            },\n",
    "            {\n",
    "                \"role\": \"user\",\n",
    "                \"content\": user_input,\n",
    "            }\n",
    "        ],\n",
    "        model=\"mixtral-8x7b-32768\",\n",
    "    )\n",
    "\n",
    "    return chat_completion.choices[0].message.content"
   ]
  },
  {
   "cell_type": "code",
   "execution_count": 14,
   "id": "d87ea7f6-e07b-4ecf-b39f-489d16bee9aa",
   "metadata": {},
   "outputs": [
    {
     "name": "stdout",
     "output_type": "stream",
     "text": [
      "Company Name: Tesla, Inc. (TSLA)\n",
      "\n",
      "Sector: Tesla operates in the highly competitive and rapidly growing electric vehicle (EV) market, which is a subsector of the global automotive industry. The EV market is expected to grow significantly in the coming years due to increasing environmental awareness, government incentives, and advancements in battery technology.\n",
      "\n",
      "Top Company: Yes, Tesla is one of the top companies in the EV market. It is the world's leading EV manufacturer by sales and has a strong brand image in the sector.\n",
      "\n",
      "Strong Points:\n",
      "\n",
      "1. Market Leader: Tesla is the market leader in the EV sector and has a first-mover advantage. It has a strong brand image, customer loyalty, and an expanding lineup of EVs.\n",
      "2. Innovation: Tesla is known for its innovation and is a leader in battery technology, autonomous driving, and charging infrastructure.\n",
      "3. Global Expansion: Tesla has a global presence with manufacturing facilities in the United States, China, and Europe. This allows the company to tap into various regional markets.\n",
      "\n",
      "Weak Points:\n",
      "\n",
      "1. Competition: The EV sector is becoming increasingly competitive with traditional automakers entering the market, which may impact Tesla's market share.\n",
      "2. High Valuation: Tesla's stock is currently trading at a high valuation, which could be a concern for potential investors.\n",
      "3. Profitability: Despite its strong sales growth, Tesla has struggled with profitability and has reported net losses in several recent quarters.\n",
      "\n",
      "Revenue Generation: Tesla generates most of its revenue from the sale of its EVs and energy products (such as solar panels and energy storage systems). The company's total revenue for 2021 was $53.8 billion, an increase of 71% from 2020.\n",
      "\n",
      "Historical Data: Over the past five years, Tesla's stock price has shown significant volatility (see the chart below). The stock has experienced sharp price increases followed by corrections.\n",
      "\n",
      "Source: Yahoo Finance\n",
      "\n",
      "In summary, Tesla is a market leader in the rapidly growing EV sector with strong brand image, innovation, and global presence. However, potential investors should be aware of the company's high valuation, competition, and profitability concerns. Despite these challenges, Tesla has demonstrated its ability to generate revenue and has potential for long-term growth in the expanding EV market.\n"
     ]
    }
   ],
   "source": [
    "print(company_query(\"Tesla, Inc.\"))"
   ]
  },
  {
   "cell_type": "code",
   "execution_count": null,
   "id": "2f20d127-0939-4a5b-9103-da78e6b0cb90",
   "metadata": {},
   "outputs": [],
   "source": []
  }
 ],
 "metadata": {
  "kernelspec": {
   "display_name": "Python 3 (ipykernel)",
   "language": "python",
   "name": "python3"
  },
  "language_info": {
   "codemirror_mode": {
    "name": "ipython",
    "version": 3
   },
   "file_extension": ".py",
   "mimetype": "text/x-python",
   "name": "python",
   "nbconvert_exporter": "python",
   "pygments_lexer": "ipython3",
   "version": "3.11.8"
  }
 },
 "nbformat": 4,
 "nbformat_minor": 5
}
